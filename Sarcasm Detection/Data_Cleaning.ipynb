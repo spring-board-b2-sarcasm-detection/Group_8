{
 "cells": [
  {
   "cell_type": "code",
   "execution_count": 1,
   "id": "f226cb40",
   "metadata": {},
   "outputs": [],
   "source": [
    "# Loading packages\n",
    "import pandas as pd # data processing, CSV file I/O (e.g. pd.read_csv)"
   ]
  },
  {
   "cell_type": "code",
   "execution_count": 2,
   "id": "edc80ba4",
   "metadata": {},
   "outputs": [
    {
     "name": "stdout",
     "output_type": "stream",
     "text": [
      "                                                    text          label\n",
      "0      हमारे गांव में एक मास्टर जी रहते थे, वो मोहल्ल...      sarcastic\n",
      "1      हमारे गांव में एक मास्टर जी रहते थे, वो मोहल्ल...      sarcastic\n",
      "2      हमारे गांव में एक मास्टर जी रहते थे, वो मोहल्ल...      sarcastic\n",
      "3      हमारे गांव में एक मास्टर जी रहते थे, वो मोहल्ल...      sarcastic\n",
      "4      हमारे गांव में एक मास्टर जी रहते थे, वो मोहल्ल...      sarcastic\n",
      "...                                                  ...            ...\n",
      "10123  स्वर्गीय श्री सुशांत सिंह राजपूत ने हमें छिछोर...  non_sarcastic\n",
      "10124  बॉलीवुड एक्टर #सुशांत_सिंह_राजपूत ने #फांसी लग...  non_sarcastic\n",
      "10125  #SushantSinghRajput #Suicide  क्यों?? चमक धमक ...  non_sarcastic\n",
      "10126  हर हाल में #खुश रहना सीख लो🙃\\n        उस दिल क...  non_sarcastic\n",
      "10127  इतना कुछ पाने के बाद भी अगर इंसान जिदंगी से हा...  non_sarcastic\n",
      "\n",
      "[16179 rows x 2 columns]\n"
     ]
    }
   ],
   "source": [
    "# Reading both csv files \n",
    "df_sarcastic = pd.read_csv('Sarcasm_Hindi_Tweets-SARCASTIC.csv')\n",
    "df_non_sarcastic = pd.read_csv('Sarcasm_Hindi_Tweets-NON-SARCASTIC.csv')\n",
    "\n",
    "#Providing labels as sarcastic and non-sarcastic\n",
    "df_sarcastic['label'] = 'sarcastic'\n",
    "df_non_sarcastic['label'] = 'non_sarcastic'\n",
    "\n",
    "#Concatenating them\n",
    "df = pd.concat([df_sarcastic, df_non_sarcastic], axis=0)\n",
    "\n",
    "#Dropping off columns that we dont need\n",
    "df = df.drop(['username','acctdesc','location','following','followers', 'totaltweets', 'usercreatedts', 'tweetcreatedts', 'retweetcount', 'hashtags'] ,axis=1)\n",
    "print(df)"
   ]
  },
  {
   "cell_type": "code",
   "execution_count": 3,
   "id": "d96817cc",
   "metadata": {},
   "outputs": [
    {
     "name": "stdout",
     "output_type": "stream",
     "text": [
      "<class 'pandas.core.frame.DataFrame'>\n",
      "RangeIndex: 16179 entries, 0 to 16178\n",
      "Data columns (total 3 columns):\n",
      " #   Column  Non-Null Count  Dtype \n",
      "---  ------  --------------  ----- \n",
      " 0   index   16179 non-null  int64 \n",
      " 1   text    16179 non-null  object\n",
      " 2   label   16179 non-null  object\n",
      "dtypes: int64(1), object(2)\n",
      "memory usage: 379.3+ KB\n"
     ]
    }
   ],
   "source": [
    "#Reseting the index \n",
    "df = df.reset_index()\n",
    "df.info()"
   ]
  },
  {
   "cell_type": "code",
   "execution_count": 4,
   "id": "a22865cf",
   "metadata": {},
   "outputs": [
    {
     "name": "stdout",
     "output_type": "stream",
     "text": [
      "<class 'pandas.core.frame.DataFrame'>\n",
      "RangeIndex: 16179 entries, 0 to 16178\n",
      "Data columns (total 2 columns):\n",
      " #   Column  Non-Null Count  Dtype \n",
      "---  ------  --------------  ----- \n",
      " 0   text    16179 non-null  object\n",
      " 1   label   16179 non-null  object\n",
      "dtypes: object(2)\n",
      "memory usage: 252.9+ KB\n"
     ]
    }
   ],
   "source": [
    "#Dropping off the index column\n",
    "df = df.drop('index',axis=1)\n",
    "df.info()"
   ]
  },
  {
   "cell_type": "code",
   "execution_count": 5,
   "id": "0d9074bd",
   "metadata": {},
   "outputs": [
    {
     "data": {
      "text/html": [
       "<div>\n",
       "<style scoped>\n",
       "    .dataframe tbody tr th:only-of-type {\n",
       "        vertical-align: middle;\n",
       "    }\n",
       "\n",
       "    .dataframe tbody tr th {\n",
       "        vertical-align: top;\n",
       "    }\n",
       "\n",
       "    .dataframe thead th {\n",
       "        text-align: right;\n",
       "    }\n",
       "</style>\n",
       "<table border=\"1\" class=\"dataframe\">\n",
       "  <thead>\n",
       "    <tr style=\"text-align: right;\">\n",
       "      <th></th>\n",
       "      <th>text</th>\n",
       "      <th>label</th>\n",
       "    </tr>\n",
       "  </thead>\n",
       "  <tbody>\n",
       "    <tr>\n",
       "      <th>0</th>\n",
       "      <td>हमारे गांव में एक मास्टर जी रहते थे, वो मोहल्ल...</td>\n",
       "      <td>sarcastic</td>\n",
       "    </tr>\n",
       "    <tr>\n",
       "      <th>1</th>\n",
       "      <td>हमारे गांव में एक मास्टर जी रहते थे, वो मोहल्ल...</td>\n",
       "      <td>sarcastic</td>\n",
       "    </tr>\n",
       "    <tr>\n",
       "      <th>2</th>\n",
       "      <td>हमारे गांव में एक मास्टर जी रहते थे, वो मोहल्ल...</td>\n",
       "      <td>sarcastic</td>\n",
       "    </tr>\n",
       "    <tr>\n",
       "      <th>3</th>\n",
       "      <td>हमारे गांव में एक मास्टर जी रहते थे, वो मोहल्ल...</td>\n",
       "      <td>sarcastic</td>\n",
       "    </tr>\n",
       "    <tr>\n",
       "      <th>4</th>\n",
       "      <td>हमारे गांव में एक मास्टर जी रहते थे, वो मोहल्ल...</td>\n",
       "      <td>sarcastic</td>\n",
       "    </tr>\n",
       "  </tbody>\n",
       "</table>\n",
       "</div>"
      ],
      "text/plain": [
       "                                                text      label\n",
       "0  हमारे गांव में एक मास्टर जी रहते थे, वो मोहल्ल...  sarcastic\n",
       "1  हमारे गांव में एक मास्टर जी रहते थे, वो मोहल्ल...  sarcastic\n",
       "2  हमारे गांव में एक मास्टर जी रहते थे, वो मोहल्ल...  sarcastic\n",
       "3  हमारे गांव में एक मास्टर जी रहते थे, वो मोहल्ल...  sarcastic\n",
       "4  हमारे गांव में एक मास्टर जी रहते थे, वो मोहल्ल...  sarcastic"
      ]
     },
     "execution_count": 5,
     "metadata": {},
     "output_type": "execute_result"
    }
   ],
   "source": [
    "# Printing the first five data of dataset\n",
    "df.head()"
   ]
  },
  {
   "cell_type": "code",
   "execution_count": 6,
   "id": "5a649ccb",
   "metadata": {},
   "outputs": [],
   "source": [
    "# importing and loading packages and libraries\n",
    "import string\n",
    "# tqdm is a library in Python that provides a fast, extensible progress bar for loops.\n",
    "from tqdm import tqdm\n",
    "from tqdm.notebook import tqdm"
   ]
  },
  {
   "cell_type": "code",
   "execution_count": 7,
   "id": "61484514",
   "metadata": {},
   "outputs": [],
   "source": [
    "# Defining a function named \"count_length()\" which counts the words in a statement\n",
    "def count_length():\n",
    "    df['word_count'] = df['text'].apply(lambda x: len(str(x).split(\" \")))\n",
    "    \n",
    "count_length()"
   ]
  },
  {
   "cell_type": "code",
   "execution_count": 8,
   "id": "7df59b28",
   "metadata": {},
   "outputs": [
    {
     "data": {
      "text/html": [
       "<div>\n",
       "<style scoped>\n",
       "    .dataframe tbody tr th:only-of-type {\n",
       "        vertical-align: middle;\n",
       "    }\n",
       "\n",
       "    .dataframe tbody tr th {\n",
       "        vertical-align: top;\n",
       "    }\n",
       "\n",
       "    .dataframe thead th {\n",
       "        text-align: right;\n",
       "    }\n",
       "</style>\n",
       "<table border=\"1\" class=\"dataframe\">\n",
       "  <thead>\n",
       "    <tr style=\"text-align: right;\">\n",
       "      <th></th>\n",
       "      <th>text</th>\n",
       "      <th>label</th>\n",
       "      <th>word_count</th>\n",
       "    </tr>\n",
       "  </thead>\n",
       "  <tbody>\n",
       "    <tr>\n",
       "      <th>0</th>\n",
       "      <td>हमारे गांव में एक मास्टर जी रहते थे, वो मोहल्ल...</td>\n",
       "      <td>sarcastic</td>\n",
       "      <td>58</td>\n",
       "    </tr>\n",
       "    <tr>\n",
       "      <th>1</th>\n",
       "      <td>हमारे गांव में एक मास्टर जी रहते थे, वो मोहल्ल...</td>\n",
       "      <td>sarcastic</td>\n",
       "      <td>58</td>\n",
       "    </tr>\n",
       "    <tr>\n",
       "      <th>2</th>\n",
       "      <td>हमारे गांव में एक मास्टर जी रहते थे, वो मोहल्ल...</td>\n",
       "      <td>sarcastic</td>\n",
       "      <td>58</td>\n",
       "    </tr>\n",
       "    <tr>\n",
       "      <th>3</th>\n",
       "      <td>हमारे गांव में एक मास्टर जी रहते थे, वो मोहल्ल...</td>\n",
       "      <td>sarcastic</td>\n",
       "      <td>58</td>\n",
       "    </tr>\n",
       "    <tr>\n",
       "      <th>4</th>\n",
       "      <td>हमारे गांव में एक मास्टर जी रहते थे, वो मोहल्ल...</td>\n",
       "      <td>sarcastic</td>\n",
       "      <td>58</td>\n",
       "    </tr>\n",
       "  </tbody>\n",
       "</table>\n",
       "</div>"
      ],
      "text/plain": [
       "                                                text      label  word_count\n",
       "0  हमारे गांव में एक मास्टर जी रहते थे, वो मोहल्ल...  sarcastic          58\n",
       "1  हमारे गांव में एक मास्टर जी रहते थे, वो मोहल्ल...  sarcastic          58\n",
       "2  हमारे गांव में एक मास्टर जी रहते थे, वो मोहल्ल...  sarcastic          58\n",
       "3  हमारे गांव में एक मास्टर जी रहते थे, वो मोहल्ल...  sarcastic          58\n",
       "4  हमारे गांव में एक मास्टर जी रहते थे, वो मोहल्ल...  sarcastic          58"
      ]
     },
     "execution_count": 8,
     "metadata": {},
     "output_type": "execute_result"
    }
   ],
   "source": [
    "# Printing first five rows with extra column word_count\n",
    "df.head()"
   ]
  },
  {
   "cell_type": "code",
   "execution_count": 9,
   "id": "aa3d3cba",
   "metadata": {},
   "outputs": [
    {
     "data": {
      "text/html": [
       "<div>\n",
       "<style scoped>\n",
       "    .dataframe tbody tr th:only-of-type {\n",
       "        vertical-align: middle;\n",
       "    }\n",
       "\n",
       "    .dataframe tbody tr th {\n",
       "        vertical-align: top;\n",
       "    }\n",
       "\n",
       "    .dataframe thead th {\n",
       "        text-align: right;\n",
       "    }\n",
       "</style>\n",
       "<table border=\"1\" class=\"dataframe\">\n",
       "  <thead>\n",
       "    <tr style=\"text-align: right;\">\n",
       "      <th></th>\n",
       "      <th>text</th>\n",
       "      <th>label</th>\n",
       "      <th>word_count</th>\n",
       "    </tr>\n",
       "  </thead>\n",
       "  <tbody>\n",
       "    <tr>\n",
       "      <th>16174</th>\n",
       "      <td>स्वर्गीय श्री सुशांत सिंह राजपूत ने हमें छिछोर...</td>\n",
       "      <td>non_sarcastic</td>\n",
       "      <td>36</td>\n",
       "    </tr>\n",
       "    <tr>\n",
       "      <th>16175</th>\n",
       "      <td>बॉलीवुड एक्टर #सुशांत_सिंह_राजपूत ने #फांसी लग...</td>\n",
       "      <td>non_sarcastic</td>\n",
       "      <td>45</td>\n",
       "    </tr>\n",
       "    <tr>\n",
       "      <th>16176</th>\n",
       "      <td>#SushantSinghRajput #Suicide  क्यों?? चमक धमक ...</td>\n",
       "      <td>non_sarcastic</td>\n",
       "      <td>40</td>\n",
       "    </tr>\n",
       "    <tr>\n",
       "      <th>16177</th>\n",
       "      <td>हर हाल में #खुश रहना सीख लो🙃\\n        उस दिल क...</td>\n",
       "      <td>non_sarcastic</td>\n",
       "      <td>47</td>\n",
       "    </tr>\n",
       "    <tr>\n",
       "      <th>16178</th>\n",
       "      <td>इतना कुछ पाने के बाद भी अगर इंसान जिदंगी से हा...</td>\n",
       "      <td>non_sarcastic</td>\n",
       "      <td>48</td>\n",
       "    </tr>\n",
       "  </tbody>\n",
       "</table>\n",
       "</div>"
      ],
      "text/plain": [
       "                                                    text          label  \\\n",
       "16174  स्वर्गीय श्री सुशांत सिंह राजपूत ने हमें छिछोर...  non_sarcastic   \n",
       "16175  बॉलीवुड एक्टर #सुशांत_सिंह_राजपूत ने #फांसी लग...  non_sarcastic   \n",
       "16176  #SushantSinghRajput #Suicide  क्यों?? चमक धमक ...  non_sarcastic   \n",
       "16177  हर हाल में #खुश रहना सीख लो🙃\\n        उस दिल क...  non_sarcastic   \n",
       "16178  इतना कुछ पाने के बाद भी अगर इंसान जिदंगी से हा...  non_sarcastic   \n",
       "\n",
       "       word_count  \n",
       "16174          36  \n",
       "16175          45  \n",
       "16176          40  \n",
       "16177          47  \n",
       "16178          48  "
      ]
     },
     "execution_count": 9,
     "metadata": {},
     "output_type": "execute_result"
    }
   ],
   "source": [
    "# Printing last five rows with extra column word_count\n",
    "df.tail()"
   ]
  },
  {
   "cell_type": "code",
   "execution_count": 10,
   "id": "56c060d3",
   "metadata": {},
   "outputs": [],
   "source": [
    "# Importing python library \"re\" which is used for regular expression which allows you to search and manipulate the strings\n",
    "import re"
   ]
  },
  {
   "cell_type": "code",
   "execution_count": 11,
   "id": "05adbf9a",
   "metadata": {},
   "outputs": [],
   "source": [
    "url_pattern = re.compile(r'http\\S+|www\\S+')\n",
    "username_pattern = re.compile(r'@[^\\s]+')\n",
    "hashtag_pattern = re.compile(r'#\\w+')\n",
    "emoji_pattern = re.compile(\"[\"\n",
    "        u\"\\U0001F600-\\U0001F64F\"  # emoticons, which includes smileys and other face expressions.\n",
    "        u\"\\U0001F300-\\U0001F5FF\"  # symbols & pictographs like weather symbols, landscapes, buildings, etc.\n",
    "        u\"\\U0001F680-\\U0001F6FF\"  # transport & map symbols such as vehicles, traffic signs, etc.\n",
    "        u\"\\U0001F1E0-\\U0001F1FF\"  # regional indicator symbols used for flag representation (e.g., country flags).\n",
    "                           \"]+\", flags=re.UNICODE) #ensures that the regular expression operates in Unicode mode."
   ]
  },
  {
   "cell_type": "code",
   "execution_count": 12,
   "id": "9d1cccdc",
   "metadata": {},
   "outputs": [],
   "source": [
    "def count_pattern(text, pattern):\n",
    "    return len(pattern.findall(text))"
   ]
  },
  {
   "cell_type": "code",
   "execution_count": 13,
   "id": "938d0f4d",
   "metadata": {},
   "outputs": [],
   "source": [
    "df['url_count'] = df['text'].apply(lambda x: count_pattern(x, url_pattern))\n",
    "df['username_count'] = df['text'].apply(lambda x: count_pattern(x, username_pattern))\n",
    "df['hashtag_count'] = df['text'].apply(lambda x: count_pattern(x, hashtag_pattern))\n",
    "df['emoji_count'] = df['text'].apply(lambda x: count_pattern(x, emoji_pattern))"
   ]
  },
  {
   "cell_type": "code",
   "execution_count": 14,
   "id": "08435203",
   "metadata": {},
   "outputs": [
    {
     "name": "stdout",
     "output_type": "stream",
     "text": [
      "Total URLs: 7595\n",
      "Total Usernames: 7372\n",
      "Total Hashtags: 76869\n",
      "Total Emojis: 12659\n"
     ]
    }
   ],
   "source": [
    "total_urls = df['url_count'].sum()\n",
    "total_usernames = df['username_count'].sum()\n",
    "total_hashtags = df['hashtag_count'].sum()\n",
    "total_emojis = df['emoji_count'].sum()\n",
    "\n",
    "print(f\"Total URLs: {total_urls}\")\n",
    "print(f\"Total Usernames: {total_usernames}\")\n",
    "print(f\"Total Hashtags: {total_hashtags}\")\n",
    "print(f\"Total Emojis: {total_emojis}\")"
   ]
  },
  {
   "cell_type": "code",
   "execution_count": 15,
   "id": "644a7e4e",
   "metadata": {},
   "outputs": [
    {
     "data": {
      "application/vnd.jupyter.widget-view+json": {
       "model_id": "ac41c6e5d61e4850bebff29e521881af",
       "version_major": 2,
       "version_minor": 0
      },
      "text/plain": [
       "  0%|          | 0/16179 [00:00<?, ?it/s]"
      ]
     },
     "metadata": {},
     "output_type": "display_data"
    },
    {
     "name": "stderr",
     "output_type": "stream",
     "text": [
      "C:\\Users\\Hetvi\\AppData\\Local\\Temp\\ipykernel_56112\\2398281761.py:4: SettingWithCopyWarning: \n",
      "A value is trying to be set on a copy of a slice from a DataFrame\n",
      "\n",
      "See the caveats in the documentation: https://pandas.pydata.org/pandas-docs/stable/user_guide/indexing.html#returning-a-view-versus-a-copy\n",
      "  df['text'][i] = emoji_pattern.sub(r'', df['text'][i])\n"
     ]
    }
   ],
   "source": [
    "# The sub() method of the compiled regular expression object is used to replace all occurrences of the pattern \n",
    "# (emojis in this case) with an empty string ''.\n",
    "for i in tqdm(range(len(df))):\n",
    "    df['text'][i] = emoji_pattern.sub(r'', df['text'][i])\n",
    "count_length()"
   ]
  },
  {
   "cell_type": "code",
   "execution_count": 16,
   "id": "3b6c69a6",
   "metadata": {},
   "outputs": [
    {
     "data": {
      "text/html": [
       "<div>\n",
       "<style scoped>\n",
       "    .dataframe tbody tr th:only-of-type {\n",
       "        vertical-align: middle;\n",
       "    }\n",
       "\n",
       "    .dataframe tbody tr th {\n",
       "        vertical-align: top;\n",
       "    }\n",
       "\n",
       "    .dataframe thead th {\n",
       "        text-align: right;\n",
       "    }\n",
       "</style>\n",
       "<table border=\"1\" class=\"dataframe\">\n",
       "  <thead>\n",
       "    <tr style=\"text-align: right;\">\n",
       "      <th></th>\n",
       "      <th>text</th>\n",
       "      <th>label</th>\n",
       "      <th>word_count</th>\n",
       "      <th>url_count</th>\n",
       "      <th>username_count</th>\n",
       "      <th>hashtag_count</th>\n",
       "      <th>emoji_count</th>\n",
       "    </tr>\n",
       "  </thead>\n",
       "  <tbody>\n",
       "    <tr>\n",
       "      <th>16174</th>\n",
       "      <td>स्वर्गीय श्री सुशांत सिंह राजपूत ने हमें छिछोर...</td>\n",
       "      <td>non_sarcastic</td>\n",
       "      <td>36</td>\n",
       "      <td>1</td>\n",
       "      <td>0</td>\n",
       "      <td>5</td>\n",
       "      <td>0</td>\n",
       "    </tr>\n",
       "    <tr>\n",
       "      <th>16175</th>\n",
       "      <td>बॉलीवुड एक्टर #सुशांत_सिंह_राजपूत ने #फांसी लग...</td>\n",
       "      <td>non_sarcastic</td>\n",
       "      <td>45</td>\n",
       "      <td>1</td>\n",
       "      <td>0</td>\n",
       "      <td>8</td>\n",
       "      <td>0</td>\n",
       "    </tr>\n",
       "    <tr>\n",
       "      <th>16176</th>\n",
       "      <td>#SushantSinghRajput #Suicide  क्यों?? चमक धमक ...</td>\n",
       "      <td>non_sarcastic</td>\n",
       "      <td>40</td>\n",
       "      <td>0</td>\n",
       "      <td>0</td>\n",
       "      <td>3</td>\n",
       "      <td>1</td>\n",
       "    </tr>\n",
       "    <tr>\n",
       "      <th>16177</th>\n",
       "      <td>हर हाल में #खुश रहना सीख लो\\n        उस दिल को...</td>\n",
       "      <td>non_sarcastic</td>\n",
       "      <td>47</td>\n",
       "      <td>1</td>\n",
       "      <td>6</td>\n",
       "      <td>4</td>\n",
       "      <td>5</td>\n",
       "    </tr>\n",
       "    <tr>\n",
       "      <th>16178</th>\n",
       "      <td>इतना कुछ पाने के बाद भी अगर इंसान जिदंगी से हा...</td>\n",
       "      <td>non_sarcastic</td>\n",
       "      <td>48</td>\n",
       "      <td>1</td>\n",
       "      <td>0</td>\n",
       "      <td>6</td>\n",
       "      <td>3</td>\n",
       "    </tr>\n",
       "  </tbody>\n",
       "</table>\n",
       "</div>"
      ],
      "text/plain": [
       "                                                    text          label  \\\n",
       "16174  स्वर्गीय श्री सुशांत सिंह राजपूत ने हमें छिछोर...  non_sarcastic   \n",
       "16175  बॉलीवुड एक्टर #सुशांत_सिंह_राजपूत ने #फांसी लग...  non_sarcastic   \n",
       "16176  #SushantSinghRajput #Suicide  क्यों?? चमक धमक ...  non_sarcastic   \n",
       "16177  हर हाल में #खुश रहना सीख लो\\n        उस दिल को...  non_sarcastic   \n",
       "16178  इतना कुछ पाने के बाद भी अगर इंसान जिदंगी से हा...  non_sarcastic   \n",
       "\n",
       "       word_count  url_count  username_count  hashtag_count  emoji_count  \n",
       "16174          36          1               0              5            0  \n",
       "16175          45          1               0              8            0  \n",
       "16176          40          0               0              3            1  \n",
       "16177          47          1               6              4            5  \n",
       "16178          48          1               0              6            3  "
      ]
     },
     "execution_count": 16,
     "metadata": {},
     "output_type": "execute_result"
    }
   ],
   "source": [
    "# Printing last five rows showing the conversion of emojis into empty string(row no. 16177)\n",
    "df.tail()"
   ]
  },
  {
   "cell_type": "code",
   "execution_count": 17,
   "id": "a1f92433",
   "metadata": {},
   "outputs": [
    {
     "data": {
      "text/html": [
       "<div>\n",
       "<style scoped>\n",
       "    .dataframe tbody tr th:only-of-type {\n",
       "        vertical-align: middle;\n",
       "    }\n",
       "\n",
       "    .dataframe tbody tr th {\n",
       "        vertical-align: top;\n",
       "    }\n",
       "\n",
       "    .dataframe thead th {\n",
       "        text-align: right;\n",
       "    }\n",
       "</style>\n",
       "<table border=\"1\" class=\"dataframe\">\n",
       "  <thead>\n",
       "    <tr style=\"text-align: right;\">\n",
       "      <th></th>\n",
       "      <th>text</th>\n",
       "      <th>label</th>\n",
       "      <th>word_count</th>\n",
       "      <th>url_count</th>\n",
       "      <th>username_count</th>\n",
       "      <th>hashtag_count</th>\n",
       "      <th>emoji_count</th>\n",
       "    </tr>\n",
       "  </thead>\n",
       "  <tbody>\n",
       "    <tr>\n",
       "      <th>10095</th>\n",
       "      <td>https://t.co/HnIURjsvMT अंतर्राष्ट्रीय योग दिव...</td>\n",
       "      <td>non_sarcastic</td>\n",
       "      <td>31</td>\n",
       "      <td>1</td>\n",
       "      <td>0</td>\n",
       "      <td>14</td>\n",
       "      <td>0</td>\n",
       "    </tr>\n",
       "    <tr>\n",
       "      <th>12116</th>\n",
       "      <td>@Jaihindsonu59 @SinghChunni @SATYAPR27477125 क...</td>\n",
       "      <td>non_sarcastic</td>\n",
       "      <td>21</td>\n",
       "      <td>1</td>\n",
       "      <td>3</td>\n",
       "      <td>5</td>\n",
       "      <td>1</td>\n",
       "    </tr>\n",
       "    <tr>\n",
       "      <th>14144</th>\n",
       "      <td>https://t.co/qzgPRYlS1h प्रदेश में आज से कोरोन...</td>\n",
       "      <td>non_sarcastic</td>\n",
       "      <td>32</td>\n",
       "      <td>1</td>\n",
       "      <td>0</td>\n",
       "      <td>14</td>\n",
       "      <td>0</td>\n",
       "    </tr>\n",
       "    <tr>\n",
       "      <th>14146</th>\n",
       "      <td>Zyada achey b mat bano, yad rkho k meethey pha...</td>\n",
       "      <td>non_sarcastic</td>\n",
       "      <td>18</td>\n",
       "      <td>0</td>\n",
       "      <td>0</td>\n",
       "      <td>1</td>\n",
       "      <td>0</td>\n",
       "    </tr>\n",
       "    <tr>\n",
       "      <th>14147</th>\n",
       "      <td>zindagi ki yhi reet hai, haar k baad hi jeet h...</td>\n",
       "      <td>non_sarcastic</td>\n",
       "      <td>13</td>\n",
       "      <td>0</td>\n",
       "      <td>0</td>\n",
       "      <td>2</td>\n",
       "      <td>0</td>\n",
       "    </tr>\n",
       "  </tbody>\n",
       "</table>\n",
       "</div>"
      ],
      "text/plain": [
       "                                                    text          label  \\\n",
       "10095  https://t.co/HnIURjsvMT अंतर्राष्ट्रीय योग दिव...  non_sarcastic   \n",
       "12116  @Jaihindsonu59 @SinghChunni @SATYAPR27477125 क...  non_sarcastic   \n",
       "14144  https://t.co/qzgPRYlS1h प्रदेश में आज से कोरोन...  non_sarcastic   \n",
       "14146  Zyada achey b mat bano, yad rkho k meethey pha...  non_sarcastic   \n",
       "14147  zindagi ki yhi reet hai, haar k baad hi jeet h...  non_sarcastic   \n",
       "\n",
       "       word_count  url_count  username_count  hashtag_count  emoji_count  \n",
       "10095          31          1               0             14            0  \n",
       "12116          21          1               3              5            1  \n",
       "14144          32          1               0             14            0  \n",
       "14146          18          0               0              1            0  \n",
       "14147          13          0               0              2            0  "
      ]
     },
     "execution_count": 17,
     "metadata": {},
     "output_type": "execute_result"
    }
   ],
   "source": [
    "df = df.drop_duplicates(keep='first')# dropping duplicates except the first occurence\n",
    "df.tail()"
   ]
  },
  {
   "cell_type": "code",
   "execution_count": 18,
   "id": "f537f8ed",
   "metadata": {},
   "outputs": [],
   "source": [
    "# Remove URLs\n",
    "url_pattern = re.compile(r'http\\S+|www\\S+')\n",
    "df['text'] = df['text'].apply(lambda x: url_pattern.sub('', x))"
   ]
  },
  {
   "cell_type": "code",
   "execution_count": 19,
   "id": "6352ce56",
   "metadata": {
    "scrolled": true
   },
   "outputs": [
    {
     "data": {
      "text/html": [
       "<div>\n",
       "<style scoped>\n",
       "    .dataframe tbody tr th:only-of-type {\n",
       "        vertical-align: middle;\n",
       "    }\n",
       "\n",
       "    .dataframe tbody tr th {\n",
       "        vertical-align: top;\n",
       "    }\n",
       "\n",
       "    .dataframe thead th {\n",
       "        text-align: right;\n",
       "    }\n",
       "</style>\n",
       "<table border=\"1\" class=\"dataframe\">\n",
       "  <thead>\n",
       "    <tr style=\"text-align: right;\">\n",
       "      <th></th>\n",
       "      <th>text</th>\n",
       "      <th>label</th>\n",
       "      <th>word_count</th>\n",
       "      <th>url_count</th>\n",
       "      <th>username_count</th>\n",
       "      <th>hashtag_count</th>\n",
       "      <th>emoji_count</th>\n",
       "    </tr>\n",
       "  </thead>\n",
       "  <tbody>\n",
       "    <tr>\n",
       "      <th>10095</th>\n",
       "      <td>अंतर्राष्ट्रीय योग दिवस के उपलक्ष में फिट योग...</td>\n",
       "      <td>non_sarcastic</td>\n",
       "      <td>31</td>\n",
       "      <td>1</td>\n",
       "      <td>0</td>\n",
       "      <td>14</td>\n",
       "      <td>0</td>\n",
       "    </tr>\n",
       "    <tr>\n",
       "      <th>12116</th>\n",
       "      <td>@Jaihindsonu59 @SinghChunni @SATYAPR27477125 क...</td>\n",
       "      <td>non_sarcastic</td>\n",
       "      <td>21</td>\n",
       "      <td>1</td>\n",
       "      <td>3</td>\n",
       "      <td>5</td>\n",
       "      <td>1</td>\n",
       "    </tr>\n",
       "    <tr>\n",
       "      <th>14144</th>\n",
       "      <td>प्रदेश में आज से कोरोना के प्रति जन जागरूकता ...</td>\n",
       "      <td>non_sarcastic</td>\n",
       "      <td>32</td>\n",
       "      <td>1</td>\n",
       "      <td>0</td>\n",
       "      <td>14</td>\n",
       "      <td>0</td>\n",
       "    </tr>\n",
       "    <tr>\n",
       "      <th>14146</th>\n",
       "      <td>Zyada achey b mat bano, yad rkho k meethey pha...</td>\n",
       "      <td>non_sarcastic</td>\n",
       "      <td>18</td>\n",
       "      <td>0</td>\n",
       "      <td>0</td>\n",
       "      <td>1</td>\n",
       "      <td>0</td>\n",
       "    </tr>\n",
       "    <tr>\n",
       "      <th>14147</th>\n",
       "      <td>zindagi ki yhi reet hai, haar k baad hi jeet h...</td>\n",
       "      <td>non_sarcastic</td>\n",
       "      <td>13</td>\n",
       "      <td>0</td>\n",
       "      <td>0</td>\n",
       "      <td>2</td>\n",
       "      <td>0</td>\n",
       "    </tr>\n",
       "  </tbody>\n",
       "</table>\n",
       "</div>"
      ],
      "text/plain": [
       "                                                    text          label  \\\n",
       "10095   अंतर्राष्ट्रीय योग दिवस के उपलक्ष में फिट योग...  non_sarcastic   \n",
       "12116  @Jaihindsonu59 @SinghChunni @SATYAPR27477125 क...  non_sarcastic   \n",
       "14144   प्रदेश में आज से कोरोना के प्रति जन जागरूकता ...  non_sarcastic   \n",
       "14146  Zyada achey b mat bano, yad rkho k meethey pha...  non_sarcastic   \n",
       "14147  zindagi ki yhi reet hai, haar k baad hi jeet h...  non_sarcastic   \n",
       "\n",
       "       word_count  url_count  username_count  hashtag_count  emoji_count  \n",
       "10095          31          1               0             14            0  \n",
       "12116          21          1               3              5            1  \n",
       "14144          32          1               0             14            0  \n",
       "14146          18          0               0              1            0  \n",
       "14147          13          0               0              2            0  "
      ]
     },
     "execution_count": 19,
     "metadata": {},
     "output_type": "execute_result"
    }
   ],
   "source": [
    "df.tail()"
   ]
  },
  {
   "cell_type": "code",
   "execution_count": 20,
   "id": "6c4f70a7",
   "metadata": {},
   "outputs": [],
   "source": [
    "# Remove usernames or mentions\n",
    "df['text'] = df['text'].apply(lambda x: re.sub(r'@[^\\s]+', '', x))"
   ]
  },
  {
   "cell_type": "code",
   "execution_count": 21,
   "id": "13876d18",
   "metadata": {},
   "outputs": [
    {
     "data": {
      "text/html": [
       "<div>\n",
       "<style scoped>\n",
       "    .dataframe tbody tr th:only-of-type {\n",
       "        vertical-align: middle;\n",
       "    }\n",
       "\n",
       "    .dataframe tbody tr th {\n",
       "        vertical-align: top;\n",
       "    }\n",
       "\n",
       "    .dataframe thead th {\n",
       "        text-align: right;\n",
       "    }\n",
       "</style>\n",
       "<table border=\"1\" class=\"dataframe\">\n",
       "  <thead>\n",
       "    <tr style=\"text-align: right;\">\n",
       "      <th></th>\n",
       "      <th>text</th>\n",
       "      <th>label</th>\n",
       "      <th>word_count</th>\n",
       "      <th>url_count</th>\n",
       "      <th>username_count</th>\n",
       "      <th>hashtag_count</th>\n",
       "      <th>emoji_count</th>\n",
       "    </tr>\n",
       "  </thead>\n",
       "  <tbody>\n",
       "    <tr>\n",
       "      <th>10095</th>\n",
       "      <td>अंतर्राष्ट्रीय योग दिवस के उपलक्ष में फिट योग...</td>\n",
       "      <td>non_sarcastic</td>\n",
       "      <td>31</td>\n",
       "      <td>1</td>\n",
       "      <td>0</td>\n",
       "      <td>14</td>\n",
       "      <td>0</td>\n",
       "    </tr>\n",
       "    <tr>\n",
       "      <th>12116</th>\n",
       "      <td>कितने #वीरान है ये दिन और सूनी #राते...\\nहर...</td>\n",
       "      <td>non_sarcastic</td>\n",
       "      <td>21</td>\n",
       "      <td>1</td>\n",
       "      <td>3</td>\n",
       "      <td>5</td>\n",
       "      <td>1</td>\n",
       "    </tr>\n",
       "    <tr>\n",
       "      <th>14144</th>\n",
       "      <td>प्रदेश में आज से कोरोना के प्रति जन जागरूकता ...</td>\n",
       "      <td>non_sarcastic</td>\n",
       "      <td>32</td>\n",
       "      <td>1</td>\n",
       "      <td>0</td>\n",
       "      <td>14</td>\n",
       "      <td>0</td>\n",
       "    </tr>\n",
       "    <tr>\n",
       "      <th>14146</th>\n",
       "      <td>Zyada achey b mat bano, yad rkho k meethey pha...</td>\n",
       "      <td>non_sarcastic</td>\n",
       "      <td>18</td>\n",
       "      <td>0</td>\n",
       "      <td>0</td>\n",
       "      <td>1</td>\n",
       "      <td>0</td>\n",
       "    </tr>\n",
       "    <tr>\n",
       "      <th>14147</th>\n",
       "      <td>zindagi ki yhi reet hai, haar k baad hi jeet h...</td>\n",
       "      <td>non_sarcastic</td>\n",
       "      <td>13</td>\n",
       "      <td>0</td>\n",
       "      <td>0</td>\n",
       "      <td>2</td>\n",
       "      <td>0</td>\n",
       "    </tr>\n",
       "  </tbody>\n",
       "</table>\n",
       "</div>"
      ],
      "text/plain": [
       "                                                    text          label  \\\n",
       "10095   अंतर्राष्ट्रीय योग दिवस के उपलक्ष में फिट योग...  non_sarcastic   \n",
       "12116     कितने #वीरान है ये दिन और सूनी #राते...\\nहर...  non_sarcastic   \n",
       "14144   प्रदेश में आज से कोरोना के प्रति जन जागरूकता ...  non_sarcastic   \n",
       "14146  Zyada achey b mat bano, yad rkho k meethey pha...  non_sarcastic   \n",
       "14147  zindagi ki yhi reet hai, haar k baad hi jeet h...  non_sarcastic   \n",
       "\n",
       "       word_count  url_count  username_count  hashtag_count  emoji_count  \n",
       "10095          31          1               0             14            0  \n",
       "12116          21          1               3              5            1  \n",
       "14144          32          1               0             14            0  \n",
       "14146          18          0               0              1            0  \n",
       "14147          13          0               0              2            0  "
      ]
     },
     "execution_count": 21,
     "metadata": {},
     "output_type": "execute_result"
    }
   ],
   "source": [
    "df.tail()"
   ]
  },
  {
   "cell_type": "code",
   "execution_count": 22,
   "id": "844d3fac",
   "metadata": {},
   "outputs": [],
   "source": [
    "# Remove hashtags\n",
    "df['text'] = df['text'].apply(lambda x: re.sub(r'#\\w+', '', x))"
   ]
  },
  {
   "cell_type": "code",
   "execution_count": 23,
   "id": "4c97c565",
   "metadata": {},
   "outputs": [
    {
     "data": {
      "text/html": [
       "<div>\n",
       "<style scoped>\n",
       "    .dataframe tbody tr th:only-of-type {\n",
       "        vertical-align: middle;\n",
       "    }\n",
       "\n",
       "    .dataframe tbody tr th {\n",
       "        vertical-align: top;\n",
       "    }\n",
       "\n",
       "    .dataframe thead th {\n",
       "        text-align: right;\n",
       "    }\n",
       "</style>\n",
       "<table border=\"1\" class=\"dataframe\">\n",
       "  <thead>\n",
       "    <tr style=\"text-align: right;\">\n",
       "      <th></th>\n",
       "      <th>text</th>\n",
       "      <th>label</th>\n",
       "      <th>word_count</th>\n",
       "      <th>url_count</th>\n",
       "      <th>username_count</th>\n",
       "      <th>hashtag_count</th>\n",
       "      <th>emoji_count</th>\n",
       "    </tr>\n",
       "  </thead>\n",
       "  <tbody>\n",
       "    <tr>\n",
       "      <th>10095</th>\n",
       "      <td>अंतर्राष्ट्रीय योग दिवस के उपलक्ष में फिट योग...</td>\n",
       "      <td>non_sarcastic</td>\n",
       "      <td>31</td>\n",
       "      <td>1</td>\n",
       "      <td>0</td>\n",
       "      <td>14</td>\n",
       "      <td>0</td>\n",
       "    </tr>\n",
       "    <tr>\n",
       "      <th>12116</th>\n",
       "      <td>कितने ीरान है ये दिन और सूनी ाते...\\nहर ास ...</td>\n",
       "      <td>non_sarcastic</td>\n",
       "      <td>21</td>\n",
       "      <td>1</td>\n",
       "      <td>3</td>\n",
       "      <td>5</td>\n",
       "      <td>1</td>\n",
       "    </tr>\n",
       "    <tr>\n",
       "      <th>14144</th>\n",
       "      <td>प्रदेश में आज से कोरोना के प्रति जन जागरूकता ...</td>\n",
       "      <td>non_sarcastic</td>\n",
       "      <td>32</td>\n",
       "      <td>1</td>\n",
       "      <td>0</td>\n",
       "      <td>14</td>\n",
       "      <td>0</td>\n",
       "    </tr>\n",
       "    <tr>\n",
       "      <th>14146</th>\n",
       "      <td>Zyada achey b mat bano, yad rkho k meethey pha...</td>\n",
       "      <td>non_sarcastic</td>\n",
       "      <td>18</td>\n",
       "      <td>0</td>\n",
       "      <td>0</td>\n",
       "      <td>1</td>\n",
       "      <td>0</td>\n",
       "    </tr>\n",
       "    <tr>\n",
       "      <th>14147</th>\n",
       "      <td>zindagi ki yhi reet hai, haar k baad hi jeet h...</td>\n",
       "      <td>non_sarcastic</td>\n",
       "      <td>13</td>\n",
       "      <td>0</td>\n",
       "      <td>0</td>\n",
       "      <td>2</td>\n",
       "      <td>0</td>\n",
       "    </tr>\n",
       "  </tbody>\n",
       "</table>\n",
       "</div>"
      ],
      "text/plain": [
       "                                                    text          label  \\\n",
       "10095   अंतर्राष्ट्रीय योग दिवस के उपलक्ष में फिट योग...  non_sarcastic   \n",
       "12116     कितने ीरान है ये दिन और सूनी ाते...\\nहर ास ...  non_sarcastic   \n",
       "14144   प्रदेश में आज से कोरोना के प्रति जन जागरूकता ...  non_sarcastic   \n",
       "14146  Zyada achey b mat bano, yad rkho k meethey pha...  non_sarcastic   \n",
       "14147  zindagi ki yhi reet hai, haar k baad hi jeet h...  non_sarcastic   \n",
       "\n",
       "       word_count  url_count  username_count  hashtag_count  emoji_count  \n",
       "10095          31          1               0             14            0  \n",
       "12116          21          1               3              5            1  \n",
       "14144          32          1               0             14            0  \n",
       "14146          18          0               0              1            0  \n",
       "14147          13          0               0              2            0  "
      ]
     },
     "execution_count": 23,
     "metadata": {},
     "output_type": "execute_result"
    }
   ],
   "source": [
    "df.tail()"
   ]
  },
  {
   "cell_type": "code",
   "execution_count": 24,
   "id": "896de532",
   "metadata": {},
   "outputs": [],
   "source": [
    "# Concatenating both the stopwords(words which don't have significant meaning in a statement/text) \n",
    "# This combined list can then be used in subsequent text processing tasks to remove common, non-informative words from text data\n",
    "stopwords_hindi = ['आपका','अंदर', 'अत', 'अपना', 'अपनी', 'अपने', 'अभी', 'आदि', 'आप',\n",
    "                   'इत्यादि', 'इन', 'इनका', 'इन्हीं', 'इन्हें', 'इन्हों', 'इस', 'इसका', 'इसकी',\n",
    "                   'इसके', 'इसमें', 'इसी', 'इसे', 'उन', 'उनका', 'उनकी', 'उनके', 'उनको',\n",
    "                   'उन्हीं', 'उन्हें', 'उन्हों', 'उस', 'उसके', 'उसी', 'उसे', 'एक', 'एवं', 'एस',\n",
    "                   'ऐसे', 'और', 'कई', 'कर','करता', 'करते', 'करना', 'करने', 'करें', 'कहते', 'कहा',\n",
    "                   'का', 'काफ़ी', 'कि', 'कितना', 'किन्हें', 'किन्हों', 'किया', 'किर', 'किस', 'किसी', 'किसे',\n",
    "                   'की', 'कुछ', 'कुल', 'के', 'को', 'कोई', 'कौन', 'कौनसा', 'गया', 'घर', 'जब', 'जहाँ',\n",
    "                   'जा', 'जितना', 'जिन', 'जिन्हें', 'जिन्हों', 'जिस', 'जिसे', 'जीधर', 'जैसा', 'जैसे', 'जो',\n",
    "                   'तक', 'तब', 'तरह', 'तिन', 'तिन्हें', 'तिन्हों', 'तिस', 'तिसे', 'तो', 'था', 'थी', 'थे',\n",
    "                   'दबारा', 'दिया', 'दुसरा', 'दूसरे', 'दो', 'द्वारा', 'न', 'नहीं', 'ना', 'निहायत', 'नीचे', 'ने',\n",
    "                   'पर', 'पर', 'पहले', 'पूरा', 'पे', 'फिर', 'बनी', 'बही', 'बहुत', 'बाद', 'बाला', 'बिलकुल',\n",
    "                   'भी', 'भीतर', 'मगर', 'मानो', 'मे', 'में', 'यदि', 'यह', 'यहाँ', 'यही', 'या'\n",
    "                  'तुम','मेरी','मुझे','क्योंकि','हम','प्रति','अबकी','आगे','माननीय','शहर','बताएं','कौनसी'\n",
    "                   'क्लिक','किसकी','बड़े','मैं','and','रही','आज','लें','आपके','मिलकर','सब','मेरे','जी'\n",
    "                   'श्री', 'यिह', 'ये', 'रखें', 'रहा', 'रहे', 'ऱ्वासा', 'लिए', 'लिये', 'लेकिन', 'व', 'वर्ग', 'वह',\n",
    "                   'वहाँ', 'वहीं', 'वाले', 'वुह', 'वे', 'वग़ैरह', 'संग', 'सकता', 'सकते', 'सबसे', 'सभी', 'साथ',\n",
    "                   'साबुत', 'साभ', 'सारा', 'से', 'सो', 'ही', 'हुआ', 'हुई', 'हुए', 'है', 'हैं', 'हो', 'होता', 'होती',\n",
    "                   'होते', 'होना', 'होने', 'अपनि', 'जेसे', 'होति', 'सभि', 'तिंहों', 'इंहों', 'दवारा', 'इसि', 'किंहें',\n",
    "                   'थि', 'उंहों', 'ओर', 'जिंहें', 'वहिं', 'अभि', 'बनि', 'हि', 'उंहिं', 'उंहें', 'हें', 'वगेरह', 'एसे',\n",
    "                   'रवासा', 'कोन', 'निचे', 'काफि', 'उसि', 'पुरा', 'भितर', 'हे', 'बहि', 'वहां', 'कोइ', 'यहां',\n",
    "                   'जिंहों', 'तिंहें', 'किसि', 'कइ', 'यहि', 'इंहिं', 'जिधर', 'इंहें', 'अदि', 'इतयादि', 'हुइ', 'कोनसा',\n",
    "                   'इसकि', 'दुसरे', 'जहां', 'अप', 'किंहों', 'उनकि', 'भि', 'वरग', 'हुअ', 'जेसा', 'नहिं']\n",
    "\n",
    "stopwords_english = ['i', 'me', 'my', 'myself', 'we', 'our', 'ours', 'ourselves', 'you', \"you're\",\n",
    "                \"you've\", \"you'll\", \"you'd\", 'your', 'yours', 'yourself', 'yourselves', 'he', 'him',\n",
    "                'his', 'himself', 'she', \"she's\", 'her', 'hers', 'herself', 'it', \"it's\", 'its',\n",
    "                'itself', 'they', 'them', 'their', 'theirs', 'themselves', 'what', 'which', 'who',\n",
    "                'whom', 'this', 'that', \"that'll\", 'these', 'those', 'am', 'is', 'are', 'was',\n",
    "                'were', 'be', 'been', 'being', 'have', 'has', 'had', 'having', 'do', 'does', 'did',\n",
    "                'doing', 'a', 'an', 'the', 'and', 'but', 'if', 'or', 'because', 'as', 'until',\n",
    "                'while', 'of', 'at', 'by', 'for', 'with', 'about', 'against', 'between', 'into',\n",
    "                'through', 'during', 'before', 'after', 'above', 'below', 'to', 'from', 'up', 'down',\n",
    "                'in', 'out', 'on', 'off', 'over', 'under', 'again', 'further', 'then', 'once', 'here',\n",
    "                'there', 'when', 'where', 'why', 'how', 'all', 'any', 'both', 'each', 'few', 'more',\n",
    "                'most', 'other', 'some', 'such', 'no', 'nor', 'not', 'only', 'own', 'same', 'so',\n",
    "                'than', 'too', 'very', 's', 't', 'can', 'will', 'just', 'don', \"don't\", 'should',\n",
    "                \"should've\", 'now', 'd', 'll', 'm', 'o', 're', 've', 'y', 'ain', 'aren', \"aren't\",\n",
    "                'couldn', \"couldn't\", 'didn', \"didn't\", 'doesn', \"doesn't\", 'hadn', \"hadn't\", 'hasn',\n",
    "                \"hasn't\", 'haven', \"haven't\", 'isn', \"isn't\", 'ma', 'mightn', \"mightn't\", 'mustn',\n",
    "                \"mustn't\", 'needn', \"needn't\", 'shan', \"shan't\", 'shouldn', \"shouldn't\", 'wasn',\n",
    "                \"wasn't\", 'weren', \"weren't\", 'won', \"won't\", 'wouldn', \"wouldn't\"]\n",
    "\n",
    "stopwords = stopwords_hindi + stopwords_english"
   ]
  },
  {
   "cell_type": "code",
   "execution_count": 25,
   "id": "c67e5b77",
   "metadata": {},
   "outputs": [
    {
     "name": "stdout",
     "output_type": "stream",
     "text": [
      "['आपका', 'अंदर', 'अत', 'अपना', 'अपनी', 'अपने', 'अभी', 'आदि', 'आप', 'इत्यादि', 'इन', 'इनका', 'इन्हीं', 'इन्हें', 'इन्हों', 'इस', 'इसका', 'इसकी', 'इसके', 'इसमें', 'इसी', 'इसे', 'उन', 'उनका', 'उनकी', 'उनके', 'उनको', 'उन्हीं', 'उन्हें', 'उन्हों', 'उस', 'उसके', 'उसी', 'उसे', 'एक', 'एवं', 'एस', 'ऐसे', 'और', 'कई', 'कर', 'करता', 'करते', 'करना', 'करने', 'करें', 'कहते', 'कहा', 'का', 'काफ़ी', 'कि', 'कितना', 'किन्हें', 'किन्हों', 'किया', 'किर', 'किस', 'किसी', 'किसे', 'की', 'कुछ', 'कुल', 'के', 'को', 'कोई', 'कौन', 'कौनसा', 'गया', 'घर', 'जब', 'जहाँ', 'जा', 'जितना', 'जिन', 'जिन्हें', 'जिन्हों', 'जिस', 'जिसे', 'जीधर', 'जैसा', 'जैसे', 'जो', 'तक', 'तब', 'तरह', 'तिन', 'तिन्हें', 'तिन्हों', 'तिस', 'तिसे', 'तो', 'था', 'थी', 'थे', 'दबारा', 'दिया', 'दुसरा', 'दूसरे', 'दो', 'द्वारा', 'न', 'नहीं', 'ना', 'निहायत', 'नीचे', 'ने', 'पर', 'पर', 'पहले', 'पूरा', 'पे', 'फिर', 'बनी', 'बही', 'बहुत', 'बाद', 'बाला', 'बिलकुल', 'भी', 'भीतर', 'मगर', 'मानो', 'मे', 'में', 'यदि', 'यह', 'यहाँ', 'यही', 'यातुम', 'मेरी', 'मुझे', 'क्योंकि', 'हम', 'प्रति', 'अबकी', 'आगे', 'माननीय', 'शहर', 'बताएं', 'कौनसीक्लिक', 'किसकी', 'बड़े', 'मैं', 'and', 'रही', 'आज', 'लें', 'आपके', 'मिलकर', 'सब', 'मेरे', 'जीश्री', 'यिह', 'ये', 'रखें', 'रहा', 'रहे', 'ऱ्वासा', 'लिए', 'लिये', 'लेकिन', 'व', 'वर्ग', 'वह', 'वहाँ', 'वहीं', 'वाले', 'वुह', 'वे', 'वग़ैरह', 'संग', 'सकता', 'सकते', 'सबसे', 'सभी', 'साथ', 'साबुत', 'साभ', 'सारा', 'से', 'सो', 'ही', 'हुआ', 'हुई', 'हुए', 'है', 'हैं', 'हो', 'होता', 'होती', 'होते', 'होना', 'होने', 'अपनि', 'जेसे', 'होति', 'सभि', 'तिंहों', 'इंहों', 'दवारा', 'इसि', 'किंहें', 'थि', 'उंहों', 'ओर', 'जिंहें', 'वहिं', 'अभि', 'बनि', 'हि', 'उंहिं', 'उंहें', 'हें', 'वगेरह', 'एसे', 'रवासा', 'कोन', 'निचे', 'काफि', 'उसि', 'पुरा', 'भितर', 'हे', 'बहि', 'वहां', 'कोइ', 'यहां', 'जिंहों', 'तिंहें', 'किसि', 'कइ', 'यहि', 'इंहिं', 'जिधर', 'इंहें', 'अदि', 'इतयादि', 'हुइ', 'कोनसा', 'इसकि', 'दुसरे', 'जहां', 'अप', 'किंहों', 'उनकि', 'भि', 'वरग', 'हुअ', 'जेसा', 'नहिं', 'i', 'me', 'my', 'myself', 'we', 'our', 'ours', 'ourselves', 'you', \"you're\", \"you've\", \"you'll\", \"you'd\", 'your', 'yours', 'yourself', 'yourselves', 'he', 'him', 'his', 'himself', 'she', \"she's\", 'her', 'hers', 'herself', 'it', \"it's\", 'its', 'itself', 'they', 'them', 'their', 'theirs', 'themselves', 'what', 'which', 'who', 'whom', 'this', 'that', \"that'll\", 'these', 'those', 'am', 'is', 'are', 'was', 'were', 'be', 'been', 'being', 'have', 'has', 'had', 'having', 'do', 'does', 'did', 'doing', 'a', 'an', 'the', 'and', 'but', 'if', 'or', 'because', 'as', 'until', 'while', 'of', 'at', 'by', 'for', 'with', 'about', 'against', 'between', 'into', 'through', 'during', 'before', 'after', 'above', 'below', 'to', 'from', 'up', 'down', 'in', 'out', 'on', 'off', 'over', 'under', 'again', 'further', 'then', 'once', 'here', 'there', 'when', 'where', 'why', 'how', 'all', 'any', 'both', 'each', 'few', 'more', 'most', 'other', 'some', 'such', 'no', 'nor', 'not', 'only', 'own', 'same', 'so', 'than', 'too', 'very', 's', 't', 'can', 'will', 'just', 'don', \"don't\", 'should', \"should've\", 'now', 'd', 'll', 'm', 'o', 're', 've', 'y', 'ain', 'aren', \"aren't\", 'couldn', \"couldn't\", 'didn', \"didn't\", 'doesn', \"doesn't\", 'hadn', \"hadn't\", 'hasn', \"hasn't\", 'haven', \"haven't\", 'isn', \"isn't\", 'ma', 'mightn', \"mightn't\", 'mustn', \"mustn't\", 'needn', \"needn't\", 'shan', \"shan't\", 'shouldn', \"shouldn't\", 'wasn', \"wasn't\", 'weren', \"weren't\", 'won', \"won't\", 'wouldn', \"wouldn't\"]\n"
     ]
    }
   ],
   "source": [
    "print(stopwords)"
   ]
  },
  {
   "cell_type": "markdown",
   "id": "e1163a59",
   "metadata": {},
   "source": [
    "# Calculating no. of English words"
   ]
  },
  {
   "cell_type": "code",
   "execution_count": 26,
   "id": "be1a889a",
   "metadata": {},
   "outputs": [
    {
     "name": "stderr",
     "output_type": "stream",
     "text": [
      "[nltk_data] Downloading package words to\n",
      "[nltk_data]     C:\\Users\\Hetvi\\AppData\\Roaming\\nltk_data...\n",
      "[nltk_data]   Package words is already up-to-date!\n"
     ]
    }
   ],
   "source": [
    "import nltk\n",
    "nltk.download('words')\n",
    "from nltk.corpus import words\n",
    "\n",
    "# Set of English words\n",
    "english_words = set(words.words())"
   ]
  },
  {
   "cell_type": "code",
   "execution_count": 27,
   "id": "b86bb29a",
   "metadata": {},
   "outputs": [],
   "source": [
    "def count_english_words(text):\n",
    "    words_in_text = text.split()\n",
    "    english_word_count = sum(1 for word in words_in_text if word.lower() in english_words)\n",
    "    return english_word_count"
   ]
  },
  {
   "cell_type": "code",
   "execution_count": 28,
   "id": "8072835b",
   "metadata": {},
   "outputs": [],
   "source": [
    "def count_total_words(text):\n",
    "    return len(text.split())"
   ]
  },
  {
   "cell_type": "code",
   "execution_count": 29,
   "id": "f720b521",
   "metadata": {},
   "outputs": [],
   "source": [
    "df['english_word_count'] = df['text'].apply(count_english_words)\n",
    "df['total_word_count'] = df['text'].apply(count_total_words)\n",
    "df['hindi_word_count'] = df['total_word_count'] - df['english_word_count']"
   ]
  },
  {
   "cell_type": "code",
   "execution_count": 30,
   "id": "f0cf643c",
   "metadata": {},
   "outputs": [],
   "source": [
    "df['english_word_percentage'] = (df['english_word_count'] / df['total_word_count']) * 100\n",
    "df['hindi_word_percentage'] = (df['hindi_word_count'] / df['total_word_count']) * 100"
   ]
  },
  {
   "cell_type": "code",
   "execution_count": 31,
   "id": "4f0f49dd",
   "metadata": {},
   "outputs": [],
   "source": [
    "# Calculating the overall percentages\n",
    "total_english_words = df['english_word_count'].sum()\n",
    "total_hindi_words = df['hindi_word_count'].sum()\n",
    "total_words = df['total_word_count'].sum()\n",
    "\n",
    "overall_english_word_percentage = (total_english_words / total_words) * 100\n",
    "overall_hindi_word_percentage = (total_hindi_words / total_words) * 100"
   ]
  },
  {
   "cell_type": "code",
   "execution_count": 32,
   "id": "1fa865d5",
   "metadata": {},
   "outputs": [
    {
     "name": "stdout",
     "output_type": "stream",
     "text": [
      "Overall English words percentage: 7.03%\n",
      "Overall Hindi words percentage: 92.97%\n",
      "Total English words: 1872\n"
     ]
    }
   ],
   "source": [
    "print(f\"Overall English words percentage: {overall_english_word_percentage:.2f}%\")\n",
    "print(f\"Overall Hindi words percentage: {overall_hindi_word_percentage:.2f}%\")\n",
    "print(f\"Total English words: {total_english_words}\")"
   ]
  },
  {
   "cell_type": "code",
   "execution_count": null,
   "id": "ce0b8710",
   "metadata": {},
   "outputs": [],
   "source": []
  }
 ],
 "metadata": {
  "kernelspec": {
   "display_name": "Python 3 (ipykernel)",
   "language": "python",
   "name": "python3"
  },
  "language_info": {
   "codemirror_mode": {
    "name": "ipython",
    "version": 3
   },
   "file_extension": ".py",
   "mimetype": "text/x-python",
   "name": "python",
   "nbconvert_exporter": "python",
   "pygments_lexer": "ipython3",
   "version": "3.10.9"
  }
 },
 "nbformat": 4,
 "nbformat_minor": 5
}
