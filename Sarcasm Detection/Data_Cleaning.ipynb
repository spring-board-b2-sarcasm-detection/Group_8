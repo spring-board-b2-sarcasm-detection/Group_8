{
 "cells": [
  {
   "cell_type": "code",
   "execution_count": 2,
   "id": "f226cb40",
   "metadata": {},
   "outputs": [],
   "source": [
    "# Loading packages\n",
    "import pandas as pd # data processing, CSV file I/O (e.g. pd.read_csv)"
   ]
  },
  {
   "cell_type": "code",
   "execution_count": 3,
   "id": "edc80ba4",
   "metadata": {},
   "outputs": [
    {
     "name": "stdout",
     "output_type": "stream",
     "text": [
      "                                                    text          label\n",
      "0      हमारे गांव में एक मास्टर जी रहते थे, वो मोहल्ल...      sarcastic\n",
      "1      हमारे गांव में एक मास्टर जी रहते थे, वो मोहल्ल...      sarcastic\n",
      "2      हमारे गांव में एक मास्टर जी रहते थे, वो मोहल्ल...      sarcastic\n",
      "3      हमारे गांव में एक मास्टर जी रहते थे, वो मोहल्ल...      sarcastic\n",
      "4      हमारे गांव में एक मास्टर जी रहते थे, वो मोहल्ल...      sarcastic\n",
      "...                                                  ...            ...\n",
      "10123  स्वर्गीय श्री सुशांत सिंह राजपूत ने हमें छिछोर...  non_sarcastic\n",
      "10124  बॉलीवुड एक्टर #सुशांत_सिंह_राजपूत ने #फांसी लग...  non_sarcastic\n",
      "10125  #SushantSinghRajput #Suicide  क्यों?? चमक धमक ...  non_sarcastic\n",
      "10126  हर हाल में #खुश रहना सीख लो🙃\\n        उस दिल क...  non_sarcastic\n",
      "10127  इतना कुछ पाने के बाद भी अगर इंसान जिदंगी से हा...  non_sarcastic\n",
      "\n",
      "[16179 rows x 2 columns]\n"
     ]
    }
   ],
   "source": [
    "# Reading both csv files \n",
    "df_sarcastic = pd.read_csv('Sarcasm_Hindi_Tweets-SARCASTIC.csv')\n",
    "df_non_sarcastic = pd.read_csv('Sarcasm_Hindi_Tweets-NON-SARCASTIC.csv')\n",
    "\n",
    "#Providing labels as sarcastic and non-sarcastic\n",
    "df_sarcastic['label'] = 'sarcastic'\n",
    "df_non_sarcastic['label'] = 'non_sarcastic'\n",
    "\n",
    "#Concatenating them\n",
    "df = pd.concat([df_sarcastic, df_non_sarcastic], axis=0)\n",
    "\n",
    "#Dropping off columns that we dont need\n",
    "df = df.drop(['username','acctdesc','location','following','followers', 'totaltweets', 'usercreatedts', 'tweetcreatedts', 'retweetcount', 'hashtags'] ,axis=1)\n",
    "print(df)"
   ]
  },
  {
   "cell_type": "code",
   "execution_count": 5,
   "id": "d96817cc",
   "metadata": {},
   "outputs": [
    {
     "name": "stdout",
     "output_type": "stream",
     "text": [
      "<class 'pandas.core.frame.DataFrame'>\n",
      "RangeIndex: 16179 entries, 0 to 16178\n",
      "Data columns (total 3 columns):\n",
      " #   Column  Non-Null Count  Dtype \n",
      "---  ------  --------------  ----- \n",
      " 0   index   16179 non-null  int64 \n",
      " 1   text    16179 non-null  object\n",
      " 2   label   16179 non-null  object\n",
      "dtypes: int64(1), object(2)\n",
      "memory usage: 379.3+ KB\n"
     ]
    }
   ],
   "source": [
    "#Reseting the index \n",
    "df = df.reset_index()\n",
    "df.info()"
   ]
  },
  {
   "cell_type": "code",
   "execution_count": 6,
   "id": "a22865cf",
   "metadata": {},
   "outputs": [
    {
     "name": "stdout",
     "output_type": "stream",
     "text": [
      "<class 'pandas.core.frame.DataFrame'>\n",
      "RangeIndex: 16179 entries, 0 to 16178\n",
      "Data columns (total 2 columns):\n",
      " #   Column  Non-Null Count  Dtype \n",
      "---  ------  --------------  ----- \n",
      " 0   text    16179 non-null  object\n",
      " 1   label   16179 non-null  object\n",
      "dtypes: object(2)\n",
      "memory usage: 252.9+ KB\n"
     ]
    }
   ],
   "source": [
    "#Dropping off the index column\n",
    "df = df.drop('index',axis=1)\n",
    "df.info()"
   ]
  },
  {
   "cell_type": "code",
   "execution_count": 5,
   "id": "0d9074bd",
   "metadata": {},
   "outputs": [
    {
     "data": {
      "text/html": [
       "<div>\n",
       "<style scoped>\n",
       "    .dataframe tbody tr th:only-of-type {\n",
       "        vertical-align: middle;\n",
       "    }\n",
       "\n",
       "    .dataframe tbody tr th {\n",
       "        vertical-align: top;\n",
       "    }\n",
       "\n",
       "    .dataframe thead th {\n",
       "        text-align: right;\n",
       "    }\n",
       "</style>\n",
       "<table border=\"1\" class=\"dataframe\">\n",
       "  <thead>\n",
       "    <tr style=\"text-align: right;\">\n",
       "      <th></th>\n",
       "      <th>text</th>\n",
       "      <th>label</th>\n",
       "    </tr>\n",
       "  </thead>\n",
       "  <tbody>\n",
       "    <tr>\n",
       "      <th>0</th>\n",
       "      <td>हमारे गांव में एक मास्टर जी रहते थे, वो मोहल्ल...</td>\n",
       "      <td>sarcastic</td>\n",
       "    </tr>\n",
       "    <tr>\n",
       "      <th>1</th>\n",
       "      <td>हमारे गांव में एक मास्टर जी रहते थे, वो मोहल्ल...</td>\n",
       "      <td>sarcastic</td>\n",
       "    </tr>\n",
       "    <tr>\n",
       "      <th>2</th>\n",
       "      <td>हमारे गांव में एक मास्टर जी रहते थे, वो मोहल्ल...</td>\n",
       "      <td>sarcastic</td>\n",
       "    </tr>\n",
       "    <tr>\n",
       "      <th>3</th>\n",
       "      <td>हमारे गांव में एक मास्टर जी रहते थे, वो मोहल्ल...</td>\n",
       "      <td>sarcastic</td>\n",
       "    </tr>\n",
       "    <tr>\n",
       "      <th>4</th>\n",
       "      <td>हमारे गांव में एक मास्टर जी रहते थे, वो मोहल्ल...</td>\n",
       "      <td>sarcastic</td>\n",
       "    </tr>\n",
       "  </tbody>\n",
       "</table>\n",
       "</div>"
      ],
      "text/plain": [
       "                                                text      label\n",
       "0  हमारे गांव में एक मास्टर जी रहते थे, वो मोहल्ल...  sarcastic\n",
       "1  हमारे गांव में एक मास्टर जी रहते थे, वो मोहल्ल...  sarcastic\n",
       "2  हमारे गांव में एक मास्टर जी रहते थे, वो मोहल्ल...  sarcastic\n",
       "3  हमारे गांव में एक मास्टर जी रहते थे, वो मोहल्ल...  sarcastic\n",
       "4  हमारे गांव में एक मास्टर जी रहते थे, वो मोहल्ल...  sarcastic"
      ]
     },
     "execution_count": 5,
     "metadata": {},
     "output_type": "execute_result"
    }
   ],
   "source": [
    "# Printing the first five data of dataset\n",
    "df.head()"
   ]
  },
  {
   "cell_type": "markdown",
   "id": "cc3c0f6b",
   "metadata": {},
   "source": [
    "# Dropping Duplicates"
   ]
  },
  {
   "cell_type": "code",
   "execution_count": 7,
   "id": "322550fa",
   "metadata": {},
   "outputs": [
    {
     "data": {
      "text/html": [
       "<div>\n",
       "<style scoped>\n",
       "    .dataframe tbody tr th:only-of-type {\n",
       "        vertical-align: middle;\n",
       "    }\n",
       "\n",
       "    .dataframe tbody tr th {\n",
       "        vertical-align: top;\n",
       "    }\n",
       "\n",
       "    .dataframe thead th {\n",
       "        text-align: right;\n",
       "    }\n",
       "</style>\n",
       "<table border=\"1\" class=\"dataframe\">\n",
       "  <thead>\n",
       "    <tr style=\"text-align: right;\">\n",
       "      <th></th>\n",
       "      <th>text</th>\n",
       "      <th>label</th>\n",
       "    </tr>\n",
       "  </thead>\n",
       "  <tbody>\n",
       "    <tr>\n",
       "      <th>0</th>\n",
       "      <td>हमारे गांव में एक मास्टर जी रहते थे, वो मोहल्ल...</td>\n",
       "      <td>sarcastic</td>\n",
       "    </tr>\n",
       "    <tr>\n",
       "      <th>5</th>\n",
       "      <td>Dil hi saaf rakhlo... \\nShakal ka to vaise bhi...</td>\n",
       "      <td>sarcastic</td>\n",
       "    </tr>\n",
       "    <tr>\n",
       "      <th>6</th>\n",
       "      <td>घोड़ो को ना मिली घास और गधे खा रहे चवनप्रास😃😃\\...</td>\n",
       "      <td>sarcastic</td>\n",
       "    </tr>\n",
       "    <tr>\n",
       "      <th>7</th>\n",
       "      <td>पिछली सरकार के 10 साल के कार्यकाल  में 171 जवा...</td>\n",
       "      <td>sarcastic</td>\n",
       "    </tr>\n",
       "    <tr>\n",
       "      <th>8</th>\n",
       "      <td>\"Akele aaye the akele hi jayengy\" ye kahawat a...</td>\n",
       "      <td>sarcastic</td>\n",
       "    </tr>\n",
       "  </tbody>\n",
       "</table>\n",
       "</div>"
      ],
      "text/plain": [
       "                                                text      label\n",
       "0  हमारे गांव में एक मास्टर जी रहते थे, वो मोहल्ल...  sarcastic\n",
       "5  Dil hi saaf rakhlo... \\nShakal ka to vaise bhi...  sarcastic\n",
       "6  घोड़ो को ना मिली घास और गधे खा रहे चवनप्रास😃😃\\...  sarcastic\n",
       "7  पिछली सरकार के 10 साल के कार्यकाल  में 171 जवा...  sarcastic\n",
       "8  \"Akele aaye the akele hi jayengy\" ye kahawat a...  sarcastic"
      ]
     },
     "execution_count": 7,
     "metadata": {},
     "output_type": "execute_result"
    }
   ],
   "source": [
    "# Dropping the duplicate values from dataset\n",
    "df = df.drop_duplicates(keep='first') # keep='first' means dropping duplicates except for the first occurrence.\n",
    "df.head()"
   ]
  },
  {
   "cell_type": "code",
   "execution_count": null,
   "id": "5a649ccb",
   "metadata": {},
   "outputs": [],
   "source": []
  }
 ],
 "metadata": {
  "kernelspec": {
   "display_name": "Python 3 (ipykernel)",
   "language": "python",
   "name": "python3"
  },
  "language_info": {
   "codemirror_mode": {
    "name": "ipython",
    "version": 3
   },
   "file_extension": ".py",
   "mimetype": "text/x-python",
   "name": "python",
   "nbconvert_exporter": "python",
   "pygments_lexer": "ipython3",
   "version": "3.10.9"
  }
 },
 "nbformat": 4,
 "nbformat_minor": 5
}
